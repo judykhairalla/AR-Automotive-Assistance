{
  "cells": [
    {
      "cell_type": "code",
      "execution_count": 56,
      "metadata": {
        "id": "igMyGnjE9hEp"
      },
      "outputs": [],
      "source": [
        "import csv\n",
        "\n",
        "import numpy as np\n",
        "import tensorflow as tf\n",
        "from sklearn.model_selection import train_test_split\n",
        "\n",
        "RANDOM_SEED = 42"
      ]
    },
    {
      "cell_type": "markdown",
      "metadata": {
        "id": "t2HDvhIu9hEr"
      },
      "source": [
        "# Specify each path"
      ]
    },
    {
      "cell_type": "code",
      "execution_count": 57,
      "metadata": {
        "id": "9NvZP2Zn9hEy"
      },
      "outputs": [],
      "source": [
        "dataset = 'model/keypoint_classifier/keypoint.csv'\n",
        "model_save_path = 'model/keypoint_classifier/keypoint_classifier.hdf5'\n",
        "tflite_save_path = 'model/keypoint_classifier/keypoint_classifier.tflite'"
      ]
    },
    {
      "cell_type": "markdown",
      "metadata": {
        "id": "s5oMH7x19hEz"
      },
      "source": [
        "# Set number of classes"
      ]
    },
    {
      "cell_type": "code",
      "execution_count": 58,
      "metadata": {
        "id": "du4kodXL9hEz"
      },
      "outputs": [],
      "source": [
        "NUM_CLASSES = 6"
      ]
    },
    {
      "cell_type": "markdown",
      "metadata": {
        "id": "XjnL0uso9hEz"
      },
      "source": [
        "# Dataset reading"
      ]
    },
    {
      "cell_type": "code",
      "execution_count": 59,
      "metadata": {
        "id": "QT5ZqtEz9hE0"
      },
      "outputs": [],
      "source": [
        "X_dataset = np.loadtxt(dataset, delimiter=',', dtype='float32', usecols=list(range(1, (21 * 2) + 1)))"
      ]
    },
    {
      "cell_type": "code",
      "execution_count": 60,
      "metadata": {
        "id": "QmoKFsp49hE0"
      },
      "outputs": [],
      "source": [
        "y_dataset = np.loadtxt(dataset, delimiter=',', dtype='int32', usecols=(0))"
      ]
    },
    {
      "cell_type": "code",
      "execution_count": 61,
      "metadata": {
        "id": "xQU7JTZ_9hE0"
      },
      "outputs": [],
      "source": [
        "X_train, X_test, y_train, y_test = train_test_split(X_dataset, y_dataset, train_size=0.75, random_state=RANDOM_SEED)"
      ]
    },
    {
      "cell_type": "markdown",
      "metadata": {
        "id": "mxK_lETT9hE0"
      },
      "source": [
        "# Model building"
      ]
    },
    {
      "cell_type": "code",
      "execution_count": 62,
      "metadata": {
        "id": "vHBmUf1t9hE1"
      },
      "outputs": [],
      "source": [
        "model = tf.keras.models.Sequential([\n",
        "    tf.keras.layers.Input((21 * 2, )),\n",
        "    tf.keras.layers.Dropout(0.2),\n",
        "    tf.keras.layers.Dense(20, activation='relu'),\n",
        "    tf.keras.layers.Dropout(0.4),\n",
        "    tf.keras.layers.Dense(10, activation='relu'),\n",
        "    tf.keras.layers.Dense(NUM_CLASSES, activation='softmax')\n",
        "])"
      ]
    },
    {
      "cell_type": "code",
      "execution_count": 63,
      "metadata": {
        "colab": {
          "base_uri": "https://localhost:8080/"
        },
        "id": "ypqky9tc9hE1",
        "outputId": "5db082bb-30e3-4110-bf63-a1ee777ecd46"
      },
      "outputs": [
        {
          "name": "stdout",
          "output_type": "stream",
          "text": [
            "Model: \"sequential_3\"\n",
            "_________________________________________________________________\n",
            " Layer (type)                Output Shape              Param #   \n",
            "=================================================================\n",
            " dropout_6 (Dropout)         (None, 42)                0         \n",
            "                                                                 \n",
            " dense_9 (Dense)             (None, 20)                860       \n",
            "                                                                 \n",
            " dropout_7 (Dropout)         (None, 20)                0         \n",
            "                                                                 \n",
            " dense_10 (Dense)            (None, 10)                210       \n",
            "                                                                 \n",
            " dense_11 (Dense)            (None, 6)                 66        \n",
            "                                                                 \n",
            "=================================================================\n",
            "Total params: 1,136\n",
            "Trainable params: 1,136\n",
            "Non-trainable params: 0\n",
            "_________________________________________________________________\n"
          ]
        }
      ],
      "source": [
        "model.summary()  # tf.keras.utils.plot_model(model, show_shapes=True)"
      ]
    },
    {
      "cell_type": "code",
      "execution_count": 64,
      "metadata": {
        "id": "MbMjOflQ9hE1"
      },
      "outputs": [],
      "source": [
        "# Model checkpoint callback\n",
        "cp_callback = tf.keras.callbacks.ModelCheckpoint(\n",
        "    model_save_path, verbose=1, save_weights_only=False)\n",
        "# Callback for early stopping\n",
        "es_callback = tf.keras.callbacks.EarlyStopping(patience=20, verbose=1)"
      ]
    },
    {
      "cell_type": "code",
      "execution_count": 65,
      "metadata": {
        "id": "c3Dac0M_9hE2"
      },
      "outputs": [],
      "source": [
        "# Model compilation\n",
        "model.compile(\n",
        "    optimizer='adam',\n",
        "    loss='sparse_categorical_crossentropy',\n",
        "    metrics=['accuracy']\n",
        ")"
      ]
    },
    {
      "cell_type": "markdown",
      "metadata": {
        "id": "7XI0j1Iu9hE2"
      },
      "source": [
        "# Model training"
      ]
    },
    {
      "cell_type": "code",
      "execution_count": 66,
      "metadata": {
        "colab": {
          "base_uri": "https://localhost:8080/"
        },
        "id": "WirBl-JE9hE3",
        "outputId": "71b30ca2-8294-4d9d-8aa2-800d90d399de",
        "scrolled": true
      },
      "outputs": [
        {
          "name": "stdout",
          "output_type": "stream",
          "text": [
            "Epoch 1/1000\n",
            " 1/31 [..............................] - ETA: 10s - loss: 1.7843 - accuracy: 0.2031\n",
            "Epoch 1: saving model to model/keypoint_classifier/keypoint_classifier.hdf5\n",
            "31/31 [==============================] - 1s 5ms/step - loss: 1.6856 - accuracy: 0.2871 - val_loss: 1.6033 - val_accuracy: 0.2950\n",
            "Epoch 2/1000\n",
            " 1/31 [..............................] - ETA: 0s - loss: 1.6378 - accuracy: 0.2656\n",
            "Epoch 2: saving model to model/keypoint_classifier/keypoint_classifier.hdf5\n",
            "31/31 [==============================] - 0s 2ms/step - loss: 1.5922 - accuracy: 0.3295 - val_loss: 1.4949 - val_accuracy: 0.3979\n",
            "Epoch 3/1000\n",
            " 1/31 [..............................] - ETA: 0s - loss: 1.6714 - accuracy: 0.2812\n",
            "Epoch 3: saving model to model/keypoint_classifier/keypoint_classifier.hdf5\n",
            "31/31 [==============================] - 0s 3ms/step - loss: 1.5182 - accuracy: 0.3608 - val_loss: 1.4116 - val_accuracy: 0.4352\n",
            "Epoch 4/1000\n",
            " 1/31 [..............................] - ETA: 0s - loss: 1.4722 - accuracy: 0.3281\n",
            "Epoch 4: saving model to model/keypoint_classifier/keypoint_classifier.hdf5\n",
            "31/31 [==============================] - 0s 3ms/step - loss: 1.4580 - accuracy: 0.3809 - val_loss: 1.3422 - val_accuracy: 0.4627\n",
            "Epoch 5/1000\n",
            " 1/31 [..............................] - ETA: 0s - loss: 1.4754 - accuracy: 0.4141\n",
            "Epoch 5: saving model to model/keypoint_classifier/keypoint_classifier.hdf5\n",
            "31/31 [==============================] - 0s 3ms/step - loss: 1.3917 - accuracy: 0.4048 - val_loss: 1.2738 - val_accuracy: 0.5061\n",
            "Epoch 6/1000\n",
            " 1/31 [..............................] - ETA: 0s - loss: 1.3312 - accuracy: 0.4141\n",
            "Epoch 6: saving model to model/keypoint_classifier/keypoint_classifier.hdf5\n",
            "31/31 [==============================] - 0s 3ms/step - loss: 1.3499 - accuracy: 0.4348 - val_loss: 1.2129 - val_accuracy: 0.6288\n",
            "Epoch 7/1000\n",
            " 1/31 [..............................] - ETA: 0s - loss: 1.3728 - accuracy: 0.4375\n",
            "Epoch 7: saving model to model/keypoint_classifier/keypoint_classifier.hdf5\n",
            "31/31 [==============================] - 0s 3ms/step - loss: 1.2877 - accuracy: 0.4826 - val_loss: 1.1419 - val_accuracy: 0.6745\n",
            "Epoch 8/1000\n",
            " 1/31 [..............................] - ETA: 0s - loss: 1.2648 - accuracy: 0.4844\n",
            "Epoch 8: saving model to model/keypoint_classifier/keypoint_classifier.hdf5\n",
            "31/31 [==============================] - 0s 3ms/step - loss: 1.2329 - accuracy: 0.5205 - val_loss: 1.0792 - val_accuracy: 0.7027\n",
            "Epoch 9/1000\n",
            " 1/31 [..............................] - ETA: 0s - loss: 1.2055 - accuracy: 0.5547\n",
            "Epoch 9: saving model to model/keypoint_classifier/keypoint_classifier.hdf5\n",
            "31/31 [==============================] - 0s 3ms/step - loss: 1.2116 - accuracy: 0.5337 - val_loss: 1.0244 - val_accuracy: 0.7325\n",
            "Epoch 10/1000\n",
            " 1/31 [..............................] - ETA: 0s - loss: 1.1003 - accuracy: 0.6094\n",
            "Epoch 10: saving model to model/keypoint_classifier/keypoint_classifier.hdf5\n",
            "31/31 [==============================] - 0s 2ms/step - loss: 1.1682 - accuracy: 0.5525 - val_loss: 0.9708 - val_accuracy: 0.7393\n",
            "Epoch 11/1000\n",
            " 1/31 [..............................] - ETA: 0s - loss: 1.1491 - accuracy: 0.6094\n",
            "Epoch 11: saving model to model/keypoint_classifier/keypoint_classifier.hdf5\n",
            "31/31 [==============================] - 0s 3ms/step - loss: 1.1409 - accuracy: 0.5683 - val_loss: 0.9356 - val_accuracy: 0.7462\n",
            "Epoch 12/1000\n",
            " 1/31 [..............................] - ETA: 0s - loss: 0.9949 - accuracy: 0.5938\n",
            "Epoch 12: saving model to model/keypoint_classifier/keypoint_classifier.hdf5\n",
            "31/31 [==============================] - 0s 2ms/step - loss: 1.1155 - accuracy: 0.5726 - val_loss: 0.8961 - val_accuracy: 0.7515\n",
            "Epoch 13/1000\n",
            " 1/31 [..............................] - ETA: 0s - loss: 1.1320 - accuracy: 0.6016\n",
            "Epoch 13: saving model to model/keypoint_classifier/keypoint_classifier.hdf5\n",
            "31/31 [==============================] - 0s 2ms/step - loss: 1.1036 - accuracy: 0.5754 - val_loss: 0.8577 - val_accuracy: 0.7759\n",
            "Epoch 14/1000\n",
            " 1/31 [..............................] - ETA: 0s - loss: 1.0069 - accuracy: 0.6094\n",
            "Epoch 14: saving model to model/keypoint_classifier/keypoint_classifier.hdf5\n",
            "31/31 [==============================] - 0s 3ms/step - loss: 1.0647 - accuracy: 0.5917 - val_loss: 0.8201 - val_accuracy: 0.7873\n",
            "Epoch 15/1000\n",
            " 1/31 [..............................] - ETA: 0s - loss: 1.0297 - accuracy: 0.5859\n",
            "Epoch 15: saving model to model/keypoint_classifier/keypoint_classifier.hdf5\n",
            "31/31 [==============================] - 0s 2ms/step - loss: 1.0520 - accuracy: 0.6011 - val_loss: 0.8020 - val_accuracy: 0.7912\n",
            "Epoch 16/1000\n",
            " 1/31 [..............................] - ETA: 0s - loss: 1.0014 - accuracy: 0.6484\n",
            "Epoch 16: saving model to model/keypoint_classifier/keypoint_classifier.hdf5\n",
            "31/31 [==============================] - 0s 2ms/step - loss: 1.0161 - accuracy: 0.6173 - val_loss: 0.7618 - val_accuracy: 0.8018\n",
            "Epoch 17/1000\n",
            " 1/31 [..............................] - ETA: 0s - loss: 0.9080 - accuracy: 0.6484\n",
            "Epoch 17: saving model to model/keypoint_classifier/keypoint_classifier.hdf5\n",
            "31/31 [==============================] - 0s 3ms/step - loss: 1.0146 - accuracy: 0.6135 - val_loss: 0.7402 - val_accuracy: 0.8140\n",
            "Epoch 18/1000\n",
            " 1/31 [..............................] - ETA: 0s - loss: 0.9459 - accuracy: 0.6484\n",
            "Epoch 18: saving model to model/keypoint_classifier/keypoint_classifier.hdf5\n",
            "31/31 [==============================] - 0s 3ms/step - loss: 1.0175 - accuracy: 0.6067 - val_loss: 0.7240 - val_accuracy: 0.8232\n",
            "Epoch 19/1000\n",
            " 1/31 [..............................] - ETA: 0s - loss: 0.9513 - accuracy: 0.6484\n",
            "Epoch 19: saving model to model/keypoint_classifier/keypoint_classifier.hdf5\n",
            "31/31 [==============================] - 0s 2ms/step - loss: 0.9820 - accuracy: 0.6349 - val_loss: 0.7037 - val_accuracy: 0.8270\n",
            "Epoch 20/1000\n",
            " 1/31 [..............................] - ETA: 0s - loss: 0.9727 - accuracy: 0.6406\n",
            "Epoch 20: saving model to model/keypoint_classifier/keypoint_classifier.hdf5\n",
            "31/31 [==============================] - 0s 2ms/step - loss: 0.9625 - accuracy: 0.6323 - val_loss: 0.6855 - val_accuracy: 0.8308\n",
            "Epoch 21/1000\n",
            " 1/31 [..............................] - ETA: 0s - loss: 0.8693 - accuracy: 0.6875\n",
            "Epoch 21: saving model to model/keypoint_classifier/keypoint_classifier.hdf5\n",
            "31/31 [==============================] - 0s 2ms/step - loss: 0.9585 - accuracy: 0.6326 - val_loss: 0.6618 - val_accuracy: 0.8354\n",
            "Epoch 22/1000\n",
            " 1/31 [..............................] - ETA: 0s - loss: 0.9675 - accuracy: 0.6484\n",
            "Epoch 22: saving model to model/keypoint_classifier/keypoint_classifier.hdf5\n",
            "31/31 [==============================] - 0s 2ms/step - loss: 0.9255 - accuracy: 0.6524 - val_loss: 0.6429 - val_accuracy: 0.8407\n",
            "Epoch 23/1000\n",
            " 1/31 [..............................] - ETA: 0s - loss: 0.8748 - accuracy: 0.6484\n",
            "Epoch 23: saving model to model/keypoint_classifier/keypoint_classifier.hdf5\n",
            "31/31 [==============================] - 0s 2ms/step - loss: 0.9240 - accuracy: 0.6468 - val_loss: 0.6265 - val_accuracy: 0.8430\n",
            "Epoch 24/1000\n",
            " 1/31 [..............................] - ETA: 0s - loss: 0.7664 - accuracy: 0.7109\n",
            "Epoch 24: saving model to model/keypoint_classifier/keypoint_classifier.hdf5\n",
            "31/31 [==============================] - 0s 2ms/step - loss: 0.9145 - accuracy: 0.6466 - val_loss: 0.6093 - val_accuracy: 0.8498\n",
            "Epoch 25/1000\n",
            " 1/31 [..............................] - ETA: 0s - loss: 0.8516 - accuracy: 0.7109\n",
            "Epoch 25: saving model to model/keypoint_classifier/keypoint_classifier.hdf5\n",
            "31/31 [==============================] - 0s 2ms/step - loss: 0.9144 - accuracy: 0.6479 - val_loss: 0.5930 - val_accuracy: 0.8537\n",
            "Epoch 26/1000\n",
            " 1/31 [..............................] - ETA: 0s - loss: 0.9745 - accuracy: 0.6094\n",
            "Epoch 26: saving model to model/keypoint_classifier/keypoint_classifier.hdf5\n",
            "31/31 [==============================] - 0s 3ms/step - loss: 0.8967 - accuracy: 0.6595 - val_loss: 0.5825 - val_accuracy: 0.8529\n",
            "Epoch 27/1000\n",
            " 1/31 [..............................] - ETA: 0s - loss: 0.8568 - accuracy: 0.7031\n",
            "Epoch 27: saving model to model/keypoint_classifier/keypoint_classifier.hdf5\n",
            "31/31 [==============================] - 0s 2ms/step - loss: 0.8878 - accuracy: 0.6626 - val_loss: 0.5591 - val_accuracy: 0.8643\n",
            "Epoch 28/1000\n",
            " 1/31 [..............................] - ETA: 0s - loss: 0.8369 - accuracy: 0.6875\n",
            "Epoch 28: saving model to model/keypoint_classifier/keypoint_classifier.hdf5\n",
            "31/31 [==============================] - 0s 2ms/step - loss: 0.8983 - accuracy: 0.6573 - val_loss: 0.5573 - val_accuracy: 0.8666\n",
            "Epoch 29/1000\n",
            " 1/31 [..............................] - ETA: 0s - loss: 0.9683 - accuracy: 0.6328\n",
            "Epoch 29: saving model to model/keypoint_classifier/keypoint_classifier.hdf5\n",
            "31/31 [==============================] - 0s 3ms/step - loss: 0.8806 - accuracy: 0.6728 - val_loss: 0.5467 - val_accuracy: 0.8659\n",
            "Epoch 30/1000\n",
            " 1/31 [..............................] - ETA: 0s - loss: 1.0129 - accuracy: 0.5781\n",
            "Epoch 30: saving model to model/keypoint_classifier/keypoint_classifier.hdf5\n",
            "31/31 [==============================] - 0s 3ms/step - loss: 0.8618 - accuracy: 0.6667 - val_loss: 0.5326 - val_accuracy: 0.8659\n",
            "Epoch 31/1000\n",
            " 1/31 [..............................] - ETA: 0s - loss: 0.8403 - accuracy: 0.6797\n",
            "Epoch 31: saving model to model/keypoint_classifier/keypoint_classifier.hdf5\n",
            "31/31 [==============================] - 0s 2ms/step - loss: 0.8469 - accuracy: 0.6735 - val_loss: 0.5190 - val_accuracy: 0.8720\n",
            "Epoch 32/1000\n",
            " 1/31 [..............................] - ETA: 0s - loss: 0.8503 - accuracy: 0.6484\n",
            "Epoch 32: saving model to model/keypoint_classifier/keypoint_classifier.hdf5\n",
            "31/31 [==============================] - 0s 3ms/step - loss: 0.8467 - accuracy: 0.6758 - val_loss: 0.5121 - val_accuracy: 0.8727\n",
            "Epoch 33/1000\n",
            " 1/31 [..............................] - ETA: 0s - loss: 0.8607 - accuracy: 0.6406\n",
            "Epoch 33: saving model to model/keypoint_classifier/keypoint_classifier.hdf5\n",
            "31/31 [==============================] - 0s 2ms/step - loss: 0.8537 - accuracy: 0.6740 - val_loss: 0.5031 - val_accuracy: 0.8788\n",
            "Epoch 34/1000\n",
            " 1/31 [..............................] - ETA: 0s - loss: 0.8477 - accuracy: 0.6328\n",
            "Epoch 34: saving model to model/keypoint_classifier/keypoint_classifier.hdf5\n",
            "31/31 [==============================] - 0s 2ms/step - loss: 0.8328 - accuracy: 0.6786 - val_loss: 0.4874 - val_accuracy: 0.8803\n",
            "Epoch 35/1000\n",
            " 1/31 [..............................] - ETA: 0s - loss: 0.8882 - accuracy: 0.6875\n",
            "Epoch 35: saving model to model/keypoint_classifier/keypoint_classifier.hdf5\n",
            "31/31 [==============================] - 0s 3ms/step - loss: 0.8173 - accuracy: 0.6883 - val_loss: 0.4785 - val_accuracy: 0.8849\n",
            "Epoch 36/1000\n",
            "24/31 [======================>.......] - ETA: 0s - loss: 0.8304 - accuracy: 0.6888\n",
            "Epoch 36: saving model to model/keypoint_classifier/keypoint_classifier.hdf5\n",
            "31/31 [==============================] - 0s 3ms/step - loss: 0.8301 - accuracy: 0.6868 - val_loss: 0.4721 - val_accuracy: 0.8819\n",
            "Epoch 37/1000\n",
            " 1/31 [..............................] - ETA: 0s - loss: 0.8856 - accuracy: 0.6250\n",
            "Epoch 37: saving model to model/keypoint_classifier/keypoint_classifier.hdf5\n",
            "31/31 [==============================] - 0s 4ms/step - loss: 0.8373 - accuracy: 0.6776 - val_loss: 0.4653 - val_accuracy: 0.8933\n",
            "Epoch 38/1000\n",
            " 1/31 [..............................] - ETA: 0s - loss: 0.7986 - accuracy: 0.6875\n",
            "Epoch 38: saving model to model/keypoint_classifier/keypoint_classifier.hdf5\n",
            "31/31 [==============================] - 0s 3ms/step - loss: 0.8185 - accuracy: 0.6883 - val_loss: 0.4624 - val_accuracy: 0.8880\n",
            "Epoch 39/1000\n",
            " 1/31 [..............................] - ETA: 0s - loss: 0.8374 - accuracy: 0.6562\n",
            "Epoch 39: saving model to model/keypoint_classifier/keypoint_classifier.hdf5\n",
            "31/31 [==============================] - 0s 2ms/step - loss: 0.8059 - accuracy: 0.7025 - val_loss: 0.4490 - val_accuracy: 0.8902\n",
            "Epoch 40/1000\n",
            " 1/31 [..............................] - ETA: 0s - loss: 0.8344 - accuracy: 0.6562\n",
            "Epoch 40: saving model to model/keypoint_classifier/keypoint_classifier.hdf5\n",
            "31/31 [==============================] - 0s 2ms/step - loss: 0.8376 - accuracy: 0.6895 - val_loss: 0.4510 - val_accuracy: 0.8910\n",
            "Epoch 41/1000\n",
            " 1/31 [..............................] - ETA: 0s - loss: 0.8129 - accuracy: 0.7188\n",
            "Epoch 41: saving model to model/keypoint_classifier/keypoint_classifier.hdf5\n",
            "31/31 [==============================] - 0s 3ms/step - loss: 0.7958 - accuracy: 0.6944 - val_loss: 0.4434 - val_accuracy: 0.8986\n",
            "Epoch 42/1000\n",
            " 1/31 [..............................] - ETA: 0s - loss: 1.0290 - accuracy: 0.6484\n",
            "Epoch 42: saving model to model/keypoint_classifier/keypoint_classifier.hdf5\n",
            "31/31 [==============================] - 0s 2ms/step - loss: 0.7754 - accuracy: 0.7122 - val_loss: 0.4328 - val_accuracy: 0.8948\n",
            "Epoch 43/1000\n",
            " 1/31 [..............................] - ETA: 0s - loss: 0.8361 - accuracy: 0.6797\n",
            "Epoch 43: saving model to model/keypoint_classifier/keypoint_classifier.hdf5\n",
            "31/31 [==============================] - 0s 2ms/step - loss: 0.7997 - accuracy: 0.7058 - val_loss: 0.4310 - val_accuracy: 0.9024\n",
            "Epoch 44/1000\n",
            " 1/31 [..............................] - ETA: 0s - loss: 0.7784 - accuracy: 0.7578\n",
            "Epoch 44: saving model to model/keypoint_classifier/keypoint_classifier.hdf5\n",
            "31/31 [==============================] - 0s 2ms/step - loss: 0.7733 - accuracy: 0.7089 - val_loss: 0.4241 - val_accuracy: 0.8941\n",
            "Epoch 45/1000\n",
            " 1/31 [..............................] - ETA: 0s - loss: 0.6970 - accuracy: 0.7500\n",
            "Epoch 45: saving model to model/keypoint_classifier/keypoint_classifier.hdf5\n",
            "31/31 [==============================] - 0s 2ms/step - loss: 0.7956 - accuracy: 0.6987 - val_loss: 0.4257 - val_accuracy: 0.9017\n",
            "Epoch 46/1000\n",
            " 1/31 [..............................] - ETA: 0s - loss: 0.8088 - accuracy: 0.7031\n",
            "Epoch 46: saving model to model/keypoint_classifier/keypoint_classifier.hdf5\n",
            "31/31 [==============================] - 0s 2ms/step - loss: 0.7734 - accuracy: 0.7079 - val_loss: 0.4148 - val_accuracy: 0.9009\n",
            "Epoch 47/1000\n",
            " 1/31 [..............................] - ETA: 0s - loss: 0.7834 - accuracy: 0.6953\n",
            "Epoch 47: saving model to model/keypoint_classifier/keypoint_classifier.hdf5\n",
            "31/31 [==============================] - 0s 2ms/step - loss: 0.8040 - accuracy: 0.7000 - val_loss: 0.4165 - val_accuracy: 0.9070\n",
            "Epoch 48/1000\n",
            " 1/31 [..............................] - ETA: 0s - loss: 0.7917 - accuracy: 0.6641\n",
            "Epoch 48: saving model to model/keypoint_classifier/keypoint_classifier.hdf5\n",
            "31/31 [==============================] - 0s 2ms/step - loss: 0.7955 - accuracy: 0.7043 - val_loss: 0.4231 - val_accuracy: 0.9055\n",
            "Epoch 49/1000\n",
            " 1/31 [..............................] - ETA: 0s - loss: 0.7625 - accuracy: 0.6641\n",
            "Epoch 49: saving model to model/keypoint_classifier/keypoint_classifier.hdf5\n",
            "31/31 [==============================] - 0s 2ms/step - loss: 0.7756 - accuracy: 0.7117 - val_loss: 0.4011 - val_accuracy: 0.9062\n",
            "Epoch 50/1000\n",
            " 1/31 [..............................] - ETA: 0s - loss: 0.7280 - accuracy: 0.7266\n",
            "Epoch 50: saving model to model/keypoint_classifier/keypoint_classifier.hdf5\n",
            "31/31 [==============================] - 0s 2ms/step - loss: 0.7567 - accuracy: 0.7129 - val_loss: 0.3992 - val_accuracy: 0.9032\n",
            "Epoch 51/1000\n",
            " 1/31 [..............................] - ETA: 0s - loss: 0.8146 - accuracy: 0.6953\n",
            "Epoch 51: saving model to model/keypoint_classifier/keypoint_classifier.hdf5\n",
            "31/31 [==============================] - 0s 3ms/step - loss: 0.7690 - accuracy: 0.7152 - val_loss: 0.4007 - val_accuracy: 0.9032\n",
            "Epoch 52/1000\n",
            "11/31 [=========>....................] - ETA: 0s - loss: 0.7424 - accuracy: 0.7180\n",
            "Epoch 52: saving model to model/keypoint_classifier/keypoint_classifier.hdf5\n",
            "31/31 [==============================] - 0s 4ms/step - loss: 0.7451 - accuracy: 0.7203 - val_loss: 0.3954 - val_accuracy: 0.9093\n",
            "Epoch 53/1000\n",
            " 1/31 [..............................] - ETA: 0s - loss: 0.9250 - accuracy: 0.7031\n",
            "Epoch 53: saving model to model/keypoint_classifier/keypoint_classifier.hdf5\n",
            "31/31 [==============================] - 0s 3ms/step - loss: 0.7574 - accuracy: 0.7157 - val_loss: 0.3906 - val_accuracy: 0.9123\n",
            "Epoch 54/1000\n",
            " 1/31 [..............................] - ETA: 0s - loss: 0.8592 - accuracy: 0.6562\n",
            "Epoch 54: saving model to model/keypoint_classifier/keypoint_classifier.hdf5\n",
            "31/31 [==============================] - 0s 2ms/step - loss: 0.7428 - accuracy: 0.7175 - val_loss: 0.3847 - val_accuracy: 0.9139\n",
            "Epoch 55/1000\n",
            " 1/31 [..............................] - ETA: 0s - loss: 0.6831 - accuracy: 0.7344\n",
            "Epoch 55: saving model to model/keypoint_classifier/keypoint_classifier.hdf5\n",
            "31/31 [==============================] - 0s 2ms/step - loss: 0.7502 - accuracy: 0.7226 - val_loss: 0.3940 - val_accuracy: 0.9093\n",
            "Epoch 56/1000\n",
            " 1/31 [..............................] - ETA: 0s - loss: 0.6557 - accuracy: 0.7656\n",
            "Epoch 56: saving model to model/keypoint_classifier/keypoint_classifier.hdf5\n",
            "31/31 [==============================] - 0s 2ms/step - loss: 0.7493 - accuracy: 0.7231 - val_loss: 0.3741 - val_accuracy: 0.9139\n",
            "Epoch 57/1000\n",
            " 1/31 [..............................] - ETA: 0s - loss: 0.7624 - accuracy: 0.7266\n",
            "Epoch 57: saving model to model/keypoint_classifier/keypoint_classifier.hdf5\n",
            "31/31 [==============================] - 0s 3ms/step - loss: 0.7545 - accuracy: 0.7241 - val_loss: 0.3818 - val_accuracy: 0.9101\n",
            "Epoch 58/1000\n",
            " 1/31 [..............................] - ETA: 0s - loss: 0.7299 - accuracy: 0.7578\n",
            "Epoch 58: saving model to model/keypoint_classifier/keypoint_classifier.hdf5\n",
            "31/31 [==============================] - 0s 3ms/step - loss: 0.7541 - accuracy: 0.7168 - val_loss: 0.3749 - val_accuracy: 0.9162\n",
            "Epoch 59/1000\n",
            " 1/31 [..............................] - ETA: 0s - loss: 0.6889 - accuracy: 0.7812\n",
            "Epoch 59: saving model to model/keypoint_classifier/keypoint_classifier.hdf5\n",
            "31/31 [==============================] - 0s 2ms/step - loss: 0.7412 - accuracy: 0.7208 - val_loss: 0.3806 - val_accuracy: 0.9116\n",
            "Epoch 60/1000\n",
            " 1/31 [..............................] - ETA: 0s - loss: 0.6200 - accuracy: 0.7656\n",
            "Epoch 60: saving model to model/keypoint_classifier/keypoint_classifier.hdf5\n",
            "31/31 [==============================] - 0s 2ms/step - loss: 0.7109 - accuracy: 0.7379 - val_loss: 0.3621 - val_accuracy: 0.9169\n",
            "Epoch 61/1000\n",
            " 1/31 [..............................] - ETA: 0s - loss: 0.7231 - accuracy: 0.7344\n",
            "Epoch 61: saving model to model/keypoint_classifier/keypoint_classifier.hdf5\n",
            "31/31 [==============================] - 0s 2ms/step - loss: 0.7295 - accuracy: 0.7267 - val_loss: 0.3684 - val_accuracy: 0.9162\n",
            "Epoch 62/1000\n",
            " 1/31 [..............................] - ETA: 0s - loss: 0.7412 - accuracy: 0.7266\n",
            "Epoch 62: saving model to model/keypoint_classifier/keypoint_classifier.hdf5\n",
            "31/31 [==============================] - 0s 2ms/step - loss: 0.7319 - accuracy: 0.7272 - val_loss: 0.3669 - val_accuracy: 0.9123\n",
            "Epoch 63/1000\n",
            " 1/31 [..............................] - ETA: 0s - loss: 0.8364 - accuracy: 0.6328\n",
            "Epoch 63: saving model to model/keypoint_classifier/keypoint_classifier.hdf5\n",
            "31/31 [==============================] - 0s 2ms/step - loss: 0.7500 - accuracy: 0.7226 - val_loss: 0.3666 - val_accuracy: 0.9169\n",
            "Epoch 64/1000\n",
            " 1/31 [..............................] - ETA: 0s - loss: 0.6123 - accuracy: 0.8047\n",
            "Epoch 64: saving model to model/keypoint_classifier/keypoint_classifier.hdf5\n",
            "31/31 [==============================] - 0s 3ms/step - loss: 0.7213 - accuracy: 0.7330 - val_loss: 0.3596 - val_accuracy: 0.9200\n",
            "Epoch 65/1000\n",
            " 1/31 [..............................] - ETA: 0s - loss: 0.7854 - accuracy: 0.6797\n",
            "Epoch 65: saving model to model/keypoint_classifier/keypoint_classifier.hdf5\n",
            "31/31 [==============================] - 0s 2ms/step - loss: 0.7231 - accuracy: 0.7333 - val_loss: 0.3625 - val_accuracy: 0.9162\n",
            "Epoch 66/1000\n",
            " 8/31 [======>.......................] - ETA: 0s - loss: 0.7001 - accuracy: 0.7227\n",
            "Epoch 66: saving model to model/keypoint_classifier/keypoint_classifier.hdf5\n",
            "31/31 [==============================] - 0s 4ms/step - loss: 0.7080 - accuracy: 0.7307 - val_loss: 0.3576 - val_accuracy: 0.9223\n",
            "Epoch 67/1000\n",
            " 1/31 [..............................] - ETA: 0s - loss: 0.7447 - accuracy: 0.7031\n",
            "Epoch 67: saving model to model/keypoint_classifier/keypoint_classifier.hdf5\n",
            "31/31 [==============================] - 0s 2ms/step - loss: 0.7197 - accuracy: 0.7302 - val_loss: 0.3538 - val_accuracy: 0.9207\n",
            "Epoch 68/1000\n",
            " 1/31 [..............................] - ETA: 0s - loss: 0.7208 - accuracy: 0.7422\n",
            "Epoch 68: saving model to model/keypoint_classifier/keypoint_classifier.hdf5\n",
            "31/31 [==============================] - 0s 3ms/step - loss: 0.7019 - accuracy: 0.7384 - val_loss: 0.3588 - val_accuracy: 0.9184\n",
            "Epoch 69/1000\n",
            " 1/31 [..............................] - ETA: 0s - loss: 0.6482 - accuracy: 0.7266\n",
            "Epoch 69: saving model to model/keypoint_classifier/keypoint_classifier.hdf5\n",
            "31/31 [==============================] - 0s 2ms/step - loss: 0.6838 - accuracy: 0.7468 - val_loss: 0.3505 - val_accuracy: 0.9192\n",
            "Epoch 70/1000\n",
            " 1/31 [..............................] - ETA: 0s - loss: 0.7201 - accuracy: 0.7422\n",
            "Epoch 70: saving model to model/keypoint_classifier/keypoint_classifier.hdf5\n",
            "31/31 [==============================] - 0s 2ms/step - loss: 0.7248 - accuracy: 0.7445 - val_loss: 0.3537 - val_accuracy: 0.9192\n",
            "Epoch 71/1000\n",
            " 1/31 [..............................] - ETA: 0s - loss: 0.6930 - accuracy: 0.7188\n",
            "Epoch 71: saving model to model/keypoint_classifier/keypoint_classifier.hdf5\n",
            "31/31 [==============================] - 0s 2ms/step - loss: 0.7090 - accuracy: 0.7300 - val_loss: 0.3453 - val_accuracy: 0.9184\n",
            "Epoch 72/1000\n",
            " 1/31 [..............................] - ETA: 0s - loss: 0.8542 - accuracy: 0.7344\n",
            "Epoch 72: saving model to model/keypoint_classifier/keypoint_classifier.hdf5\n",
            "31/31 [==============================] - 0s 2ms/step - loss: 0.7021 - accuracy: 0.7427 - val_loss: 0.3425 - val_accuracy: 0.9184\n",
            "Epoch 73/1000\n",
            " 1/31 [..............................] - ETA: 0s - loss: 0.6844 - accuracy: 0.7500\n",
            "Epoch 73: saving model to model/keypoint_classifier/keypoint_classifier.hdf5\n",
            "31/31 [==============================] - 0s 2ms/step - loss: 0.7003 - accuracy: 0.7381 - val_loss: 0.3391 - val_accuracy: 0.9169\n",
            "Epoch 74/1000\n",
            " 1/31 [..............................] - ETA: 0s - loss: 0.6875 - accuracy: 0.7344\n",
            "Epoch 74: saving model to model/keypoint_classifier/keypoint_classifier.hdf5\n",
            "31/31 [==============================] - 0s 2ms/step - loss: 0.7112 - accuracy: 0.7295 - val_loss: 0.3436 - val_accuracy: 0.9169\n",
            "Epoch 75/1000\n",
            " 1/31 [..............................] - ETA: 0s - loss: 0.7996 - accuracy: 0.7188\n",
            "Epoch 75: saving model to model/keypoint_classifier/keypoint_classifier.hdf5\n",
            "31/31 [==============================] - 0s 2ms/step - loss: 0.7179 - accuracy: 0.7389 - val_loss: 0.3486 - val_accuracy: 0.9162\n",
            "Epoch 76/1000\n",
            " 1/31 [..............................] - ETA: 0s - loss: 0.8809 - accuracy: 0.6719\n",
            "Epoch 76: saving model to model/keypoint_classifier/keypoint_classifier.hdf5\n",
            "31/31 [==============================] - 0s 2ms/step - loss: 0.6970 - accuracy: 0.7450 - val_loss: 0.3360 - val_accuracy: 0.9200\n",
            "Epoch 77/1000\n",
            " 1/31 [..............................] - ETA: 0s - loss: 0.7785 - accuracy: 0.7031\n",
            "Epoch 77: saving model to model/keypoint_classifier/keypoint_classifier.hdf5\n",
            "31/31 [==============================] - 0s 3ms/step - loss: 0.7100 - accuracy: 0.7412 - val_loss: 0.3426 - val_accuracy: 0.9177\n",
            "Epoch 78/1000\n",
            " 1/31 [..............................] - ETA: 0s - loss: 0.7183 - accuracy: 0.7891\n",
            "Epoch 78: saving model to model/keypoint_classifier/keypoint_classifier.hdf5\n",
            "31/31 [==============================] - 0s 3ms/step - loss: 0.7050 - accuracy: 0.7470 - val_loss: 0.3377 - val_accuracy: 0.9215\n",
            "Epoch 79/1000\n",
            " 1/31 [..............................] - ETA: 0s - loss: 0.8278 - accuracy: 0.6484\n",
            "Epoch 79: saving model to model/keypoint_classifier/keypoint_classifier.hdf5\n",
            "31/31 [==============================] - 0s 2ms/step - loss: 0.6921 - accuracy: 0.7412 - val_loss: 0.3421 - val_accuracy: 0.9200\n",
            "Epoch 80/1000\n",
            " 1/31 [..............................] - ETA: 0s - loss: 0.7595 - accuracy: 0.7031\n",
            "Epoch 80: saving model to model/keypoint_classifier/keypoint_classifier.hdf5\n",
            "31/31 [==============================] - 0s 2ms/step - loss: 0.7148 - accuracy: 0.7386 - val_loss: 0.3335 - val_accuracy: 0.9245\n",
            "Epoch 81/1000\n",
            " 1/31 [..............................] - ETA: 0s - loss: 0.7187 - accuracy: 0.7578\n",
            "Epoch 81: saving model to model/keypoint_classifier/keypoint_classifier.hdf5\n",
            "31/31 [==============================] - 0s 2ms/step - loss: 0.7084 - accuracy: 0.7462 - val_loss: 0.3342 - val_accuracy: 0.9245\n",
            "Epoch 82/1000\n",
            " 1/31 [..............................] - ETA: 0s - loss: 0.8069 - accuracy: 0.6797\n",
            "Epoch 82: saving model to model/keypoint_classifier/keypoint_classifier.hdf5\n",
            "31/31 [==============================] - 0s 3ms/step - loss: 0.7109 - accuracy: 0.7396 - val_loss: 0.3398 - val_accuracy: 0.9200\n",
            "Epoch 83/1000\n",
            " 1/31 [..............................] - ETA: 0s - loss: 0.7300 - accuracy: 0.7031\n",
            "Epoch 83: saving model to model/keypoint_classifier/keypoint_classifier.hdf5\n",
            "31/31 [==============================] - 0s 3ms/step - loss: 0.7015 - accuracy: 0.7394 - val_loss: 0.3389 - val_accuracy: 0.9146\n",
            "Epoch 84/1000\n",
            "30/31 [============================>.] - ETA: 0s - loss: 0.6881 - accuracy: 0.7484\n",
            "Epoch 84: saving model to model/keypoint_classifier/keypoint_classifier.hdf5\n",
            "31/31 [==============================] - 0s 3ms/step - loss: 0.6917 - accuracy: 0.7488 - val_loss: 0.3316 - val_accuracy: 0.9223\n",
            "Epoch 85/1000\n",
            " 1/31 [..............................] - ETA: 0s - loss: 0.6493 - accuracy: 0.7422\n",
            "Epoch 85: saving model to model/keypoint_classifier/keypoint_classifier.hdf5\n",
            "31/31 [==============================] - 0s 3ms/step - loss: 0.7020 - accuracy: 0.7412 - val_loss: 0.3327 - val_accuracy: 0.9169\n",
            "Epoch 86/1000\n",
            " 1/31 [..............................] - ETA: 0s - loss: 0.7074 - accuracy: 0.7969\n",
            "Epoch 86: saving model to model/keypoint_classifier/keypoint_classifier.hdf5\n",
            "31/31 [==============================] - 0s 3ms/step - loss: 0.6968 - accuracy: 0.7498 - val_loss: 0.3271 - val_accuracy: 0.9245\n",
            "Epoch 87/1000\n",
            " 1/31 [..............................] - ETA: 0s - loss: 0.7611 - accuracy: 0.7656\n",
            "Epoch 87: saving model to model/keypoint_classifier/keypoint_classifier.hdf5\n",
            "31/31 [==============================] - 0s 3ms/step - loss: 0.6892 - accuracy: 0.7536 - val_loss: 0.3260 - val_accuracy: 0.9276\n",
            "Epoch 88/1000\n",
            " 1/31 [..............................] - ETA: 0s - loss: 0.5663 - accuracy: 0.7891\n",
            "Epoch 88: saving model to model/keypoint_classifier/keypoint_classifier.hdf5\n",
            "31/31 [==============================] - 0s 2ms/step - loss: 0.6704 - accuracy: 0.7483 - val_loss: 0.3219 - val_accuracy: 0.9253\n",
            "Epoch 89/1000\n",
            " 1/31 [..............................] - ETA: 0s - loss: 0.7895 - accuracy: 0.7188\n",
            "Epoch 89: saving model to model/keypoint_classifier/keypoint_classifier.hdf5\n",
            "31/31 [==============================] - 0s 3ms/step - loss: 0.6690 - accuracy: 0.7551 - val_loss: 0.3241 - val_accuracy: 0.9207\n",
            "Epoch 90/1000\n",
            " 1/31 [..............................] - ETA: 0s - loss: 0.6733 - accuracy: 0.6953\n",
            "Epoch 90: saving model to model/keypoint_classifier/keypoint_classifier.hdf5\n",
            "31/31 [==============================] - 0s 2ms/step - loss: 0.6857 - accuracy: 0.7412 - val_loss: 0.3320 - val_accuracy: 0.9215\n",
            "Epoch 91/1000\n",
            " 1/31 [..............................] - ETA: 0s - loss: 0.5510 - accuracy: 0.8281\n",
            "Epoch 91: saving model to model/keypoint_classifier/keypoint_classifier.hdf5\n",
            "31/31 [==============================] - 0s 2ms/step - loss: 0.6826 - accuracy: 0.7508 - val_loss: 0.3228 - val_accuracy: 0.9215\n",
            "Epoch 92/1000\n",
            " 1/31 [..............................] - ETA: 0s - loss: 0.7018 - accuracy: 0.7656\n",
            "Epoch 92: saving model to model/keypoint_classifier/keypoint_classifier.hdf5\n",
            "31/31 [==============================] - 0s 2ms/step - loss: 0.6570 - accuracy: 0.7579 - val_loss: 0.3222 - val_accuracy: 0.9184\n",
            "Epoch 93/1000\n",
            " 1/31 [..............................] - ETA: 0s - loss: 0.6697 - accuracy: 0.7266\n",
            "Epoch 93: saving model to model/keypoint_classifier/keypoint_classifier.hdf5\n",
            "31/31 [==============================] - 0s 3ms/step - loss: 0.6980 - accuracy: 0.7483 - val_loss: 0.3127 - val_accuracy: 0.9253\n",
            "Epoch 94/1000\n",
            " 1/31 [..............................] - ETA: 0s - loss: 0.5424 - accuracy: 0.8047\n",
            "Epoch 94: saving model to model/keypoint_classifier/keypoint_classifier.hdf5\n",
            "31/31 [==============================] - 0s 2ms/step - loss: 0.6915 - accuracy: 0.7529 - val_loss: 0.3260 - val_accuracy: 0.9192\n",
            "Epoch 95/1000\n",
            " 1/31 [..............................] - ETA: 0s - loss: 0.8144 - accuracy: 0.7188\n",
            "Epoch 95: saving model to model/keypoint_classifier/keypoint_classifier.hdf5\n",
            "31/31 [==============================] - 0s 2ms/step - loss: 0.6900 - accuracy: 0.7440 - val_loss: 0.3255 - val_accuracy: 0.9177\n",
            "Epoch 96/1000\n",
            " 1/31 [..............................] - ETA: 0s - loss: 0.6681 - accuracy: 0.7578\n",
            "Epoch 96: saving model to model/keypoint_classifier/keypoint_classifier.hdf5\n",
            "31/31 [==============================] - 0s 3ms/step - loss: 0.6862 - accuracy: 0.7460 - val_loss: 0.3232 - val_accuracy: 0.9223\n",
            "Epoch 97/1000\n",
            " 1/31 [..............................] - ETA: 0s - loss: 0.6662 - accuracy: 0.7500\n",
            "Epoch 97: saving model to model/keypoint_classifier/keypoint_classifier.hdf5\n",
            "31/31 [==============================] - 0s 3ms/step - loss: 0.6711 - accuracy: 0.7536 - val_loss: 0.3287 - val_accuracy: 0.9177\n",
            "Epoch 98/1000\n",
            " 1/31 [..............................] - ETA: 0s - loss: 0.7575 - accuracy: 0.7344\n",
            "Epoch 98: saving model to model/keypoint_classifier/keypoint_classifier.hdf5\n",
            "31/31 [==============================] - 0s 2ms/step - loss: 0.6737 - accuracy: 0.7531 - val_loss: 0.3221 - val_accuracy: 0.9192\n",
            "Epoch 99/1000\n",
            " 1/31 [..............................] - ETA: 0s - loss: 0.7238 - accuracy: 0.7656\n",
            "Epoch 99: saving model to model/keypoint_classifier/keypoint_classifier.hdf5\n",
            "31/31 [==============================] - 0s 2ms/step - loss: 0.6711 - accuracy: 0.7551 - val_loss: 0.3155 - val_accuracy: 0.9177\n",
            "Epoch 100/1000\n",
            " 1/31 [..............................] - ETA: 0s - loss: 0.6236 - accuracy: 0.8203\n",
            "Epoch 100: saving model to model/keypoint_classifier/keypoint_classifier.hdf5\n",
            "31/31 [==============================] - 0s 2ms/step - loss: 0.6726 - accuracy: 0.7465 - val_loss: 0.3128 - val_accuracy: 0.9184\n",
            "Epoch 101/1000\n",
            " 1/31 [..............................] - ETA: 0s - loss: 0.6736 - accuracy: 0.7344\n",
            "Epoch 101: saving model to model/keypoint_classifier/keypoint_classifier.hdf5\n",
            "31/31 [==============================] - 0s 2ms/step - loss: 0.6690 - accuracy: 0.7567 - val_loss: 0.3105 - val_accuracy: 0.9200\n",
            "Epoch 102/1000\n",
            " 1/31 [..............................] - ETA: 0s - loss: 0.6989 - accuracy: 0.7578\n",
            "Epoch 102: saving model to model/keypoint_classifier/keypoint_classifier.hdf5\n",
            "31/31 [==============================] - 0s 3ms/step - loss: 0.6569 - accuracy: 0.7630 - val_loss: 0.3118 - val_accuracy: 0.9238\n",
            "Epoch 103/1000\n",
            " 1/31 [..............................] - ETA: 0s - loss: 0.7235 - accuracy: 0.7031\n",
            "Epoch 103: saving model to model/keypoint_classifier/keypoint_classifier.hdf5\n",
            "31/31 [==============================] - 0s 2ms/step - loss: 0.6796 - accuracy: 0.7526 - val_loss: 0.3094 - val_accuracy: 0.9215\n",
            "Epoch 104/1000\n",
            " 1/31 [..............................] - ETA: 0s - loss: 0.7141 - accuracy: 0.7266\n",
            "Epoch 104: saving model to model/keypoint_classifier/keypoint_classifier.hdf5\n",
            "31/31 [==============================] - 0s 2ms/step - loss: 0.6529 - accuracy: 0.7582 - val_loss: 0.3109 - val_accuracy: 0.9200\n",
            "Epoch 105/1000\n",
            " 1/31 [..............................] - ETA: 0s - loss: 0.5949 - accuracy: 0.7812\n",
            "Epoch 105: saving model to model/keypoint_classifier/keypoint_classifier.hdf5\n",
            "31/31 [==============================] - 0s 2ms/step - loss: 0.6738 - accuracy: 0.7546 - val_loss: 0.3159 - val_accuracy: 0.9276\n",
            "Epoch 106/1000\n",
            " 1/31 [..............................] - ETA: 0s - loss: 0.8008 - accuracy: 0.6953\n",
            "Epoch 106: saving model to model/keypoint_classifier/keypoint_classifier.hdf5\n",
            "31/31 [==============================] - 0s 2ms/step - loss: 0.6802 - accuracy: 0.7468 - val_loss: 0.3031 - val_accuracy: 0.9268\n",
            "Epoch 107/1000\n",
            " 1/31 [..............................] - ETA: 0s - loss: 0.7249 - accuracy: 0.7188\n",
            "Epoch 107: saving model to model/keypoint_classifier/keypoint_classifier.hdf5\n",
            "31/31 [==============================] - 0s 2ms/step - loss: 0.6587 - accuracy: 0.7648 - val_loss: 0.3189 - val_accuracy: 0.9169\n",
            "Epoch 108/1000\n",
            " 1/31 [..............................] - ETA: 0s - loss: 0.6955 - accuracy: 0.7422\n",
            "Epoch 108: saving model to model/keypoint_classifier/keypoint_classifier.hdf5\n",
            "31/31 [==============================] - 0s 2ms/step - loss: 0.6577 - accuracy: 0.7567 - val_loss: 0.3056 - val_accuracy: 0.9192\n",
            "Epoch 109/1000\n",
            "14/31 [============>.................] - ETA: 0s - loss: 0.6777 - accuracy: 0.7628\n",
            "Epoch 109: saving model to model/keypoint_classifier/keypoint_classifier.hdf5\n",
            "31/31 [==============================] - 0s 4ms/step - loss: 0.6724 - accuracy: 0.7600 - val_loss: 0.3130 - val_accuracy: 0.9177\n",
            "Epoch 110/1000\n",
            " 1/31 [..............................] - ETA: 0s - loss: 0.6095 - accuracy: 0.7500\n",
            "Epoch 110: saving model to model/keypoint_classifier/keypoint_classifier.hdf5\n",
            "31/31 [==============================] - 0s 3ms/step - loss: 0.6589 - accuracy: 0.7529 - val_loss: 0.3115 - val_accuracy: 0.9215\n",
            "Epoch 111/1000\n",
            " 1/31 [..............................] - ETA: 0s - loss: 0.6035 - accuracy: 0.8047\n",
            "Epoch 111: saving model to model/keypoint_classifier/keypoint_classifier.hdf5\n",
            "31/31 [==============================] - 0s 4ms/step - loss: 0.6577 - accuracy: 0.7633 - val_loss: 0.3007 - val_accuracy: 0.9306\n",
            "Epoch 112/1000\n",
            " 1/31 [..............................] - ETA: 0s - loss: 0.6130 - accuracy: 0.7891\n",
            "Epoch 112: saving model to model/keypoint_classifier/keypoint_classifier.hdf5\n",
            "31/31 [==============================] - 0s 3ms/step - loss: 0.6619 - accuracy: 0.7562 - val_loss: 0.3049 - val_accuracy: 0.9223\n",
            "Epoch 113/1000\n",
            " 1/31 [..............................] - ETA: 0s - loss: 0.6991 - accuracy: 0.7188\n",
            "Epoch 113: saving model to model/keypoint_classifier/keypoint_classifier.hdf5\n",
            "31/31 [==============================] - 0s 2ms/step - loss: 0.6660 - accuracy: 0.7493 - val_loss: 0.3091 - val_accuracy: 0.9245\n",
            "Epoch 114/1000\n",
            " 1/31 [..............................] - ETA: 0s - loss: 0.6653 - accuracy: 0.7344\n",
            "Epoch 114: saving model to model/keypoint_classifier/keypoint_classifier.hdf5\n",
            "31/31 [==============================] - 0s 2ms/step - loss: 0.6669 - accuracy: 0.7546 - val_loss: 0.3097 - val_accuracy: 0.9253\n",
            "Epoch 115/1000\n",
            " 1/31 [..............................] - ETA: 0s - loss: 0.7457 - accuracy: 0.7031\n",
            "Epoch 115: saving model to model/keypoint_classifier/keypoint_classifier.hdf5\n",
            "31/31 [==============================] - 0s 2ms/step - loss: 0.6639 - accuracy: 0.7508 - val_loss: 0.2992 - val_accuracy: 0.9276\n",
            "Epoch 116/1000\n",
            " 1/31 [..............................] - ETA: 0s - loss: 0.6245 - accuracy: 0.7578\n",
            "Epoch 116: saving model to model/keypoint_classifier/keypoint_classifier.hdf5\n",
            "31/31 [==============================] - 0s 2ms/step - loss: 0.6620 - accuracy: 0.7579 - val_loss: 0.2960 - val_accuracy: 0.9268\n",
            "Epoch 117/1000\n",
            " 1/31 [..............................] - ETA: 0s - loss: 0.6823 - accuracy: 0.7422\n",
            "Epoch 117: saving model to model/keypoint_classifier/keypoint_classifier.hdf5\n",
            "31/31 [==============================] - 0s 2ms/step - loss: 0.6646 - accuracy: 0.7577 - val_loss: 0.3024 - val_accuracy: 0.9261\n",
            "Epoch 118/1000\n",
            " 1/31 [..............................] - ETA: 0s - loss: 0.6787 - accuracy: 0.7656\n",
            "Epoch 118: saving model to model/keypoint_classifier/keypoint_classifier.hdf5\n",
            "31/31 [==============================] - 0s 3ms/step - loss: 0.6700 - accuracy: 0.7567 - val_loss: 0.2950 - val_accuracy: 0.9299\n",
            "Epoch 119/1000\n",
            " 1/31 [..............................] - ETA: 0s - loss: 0.6948 - accuracy: 0.7344\n",
            "Epoch 119: saving model to model/keypoint_classifier/keypoint_classifier.hdf5\n",
            "31/31 [==============================] - 0s 2ms/step - loss: 0.6546 - accuracy: 0.7516 - val_loss: 0.3015 - val_accuracy: 0.9291\n",
            "Epoch 120/1000\n",
            " 1/31 [..............................] - ETA: 0s - loss: 0.6357 - accuracy: 0.7500\n",
            "Epoch 120: saving model to model/keypoint_classifier/keypoint_classifier.hdf5\n",
            "31/31 [==============================] - 0s 3ms/step - loss: 0.6576 - accuracy: 0.7635 - val_loss: 0.3034 - val_accuracy: 0.9261\n",
            "Epoch 121/1000\n",
            " 1/31 [..............................] - ETA: 0s - loss: 0.7140 - accuracy: 0.7266\n",
            "Epoch 121: saving model to model/keypoint_classifier/keypoint_classifier.hdf5\n",
            "31/31 [==============================] - 0s 3ms/step - loss: 0.6558 - accuracy: 0.7620 - val_loss: 0.3011 - val_accuracy: 0.9276\n",
            "Epoch 122/1000\n",
            " 1/31 [..............................] - ETA: 0s - loss: 0.7456 - accuracy: 0.7266\n",
            "Epoch 122: saving model to model/keypoint_classifier/keypoint_classifier.hdf5\n",
            "31/31 [==============================] - 0s 2ms/step - loss: 0.6730 - accuracy: 0.7496 - val_loss: 0.3037 - val_accuracy: 0.9230\n",
            "Epoch 123/1000\n",
            " 1/31 [..............................] - ETA: 0s - loss: 0.7168 - accuracy: 0.7031\n",
            "Epoch 123: saving model to model/keypoint_classifier/keypoint_classifier.hdf5\n",
            "31/31 [==============================] - 0s 2ms/step - loss: 0.6592 - accuracy: 0.7579 - val_loss: 0.2971 - val_accuracy: 0.9322\n",
            "Epoch 124/1000\n",
            " 1/31 [..............................] - ETA: 0s - loss: 0.6541 - accuracy: 0.7656\n",
            "Epoch 124: saving model to model/keypoint_classifier/keypoint_classifier.hdf5\n",
            "31/31 [==============================] - 0s 2ms/step - loss: 0.6459 - accuracy: 0.7699 - val_loss: 0.2933 - val_accuracy: 0.9253\n",
            "Epoch 125/1000\n",
            " 1/31 [..............................] - ETA: 0s - loss: 0.5566 - accuracy: 0.8047\n",
            "Epoch 125: saving model to model/keypoint_classifier/keypoint_classifier.hdf5\n",
            "31/31 [==============================] - 0s 2ms/step - loss: 0.6742 - accuracy: 0.7511 - val_loss: 0.3022 - val_accuracy: 0.9238\n",
            "Epoch 126/1000\n",
            " 1/31 [..............................] - ETA: 0s - loss: 0.7577 - accuracy: 0.6953\n",
            "Epoch 126: saving model to model/keypoint_classifier/keypoint_classifier.hdf5\n",
            "31/31 [==============================] - 0s 2ms/step - loss: 0.6512 - accuracy: 0.7623 - val_loss: 0.2947 - val_accuracy: 0.9276\n",
            "Epoch 127/1000\n",
            " 1/31 [..............................] - ETA: 0s - loss: 0.6062 - accuracy: 0.7656\n",
            "Epoch 127: saving model to model/keypoint_classifier/keypoint_classifier.hdf5\n",
            "31/31 [==============================] - 0s 2ms/step - loss: 0.6731 - accuracy: 0.7585 - val_loss: 0.3072 - val_accuracy: 0.9261\n",
            "Epoch 128/1000\n",
            " 1/31 [..............................] - ETA: 0s - loss: 0.5426 - accuracy: 0.7891\n",
            "Epoch 128: saving model to model/keypoint_classifier/keypoint_classifier.hdf5\n",
            "31/31 [==============================] - 0s 2ms/step - loss: 0.6702 - accuracy: 0.7615 - val_loss: 0.3094 - val_accuracy: 0.9291\n",
            "Epoch 129/1000\n",
            " 1/31 [..............................] - ETA: 0s - loss: 0.6389 - accuracy: 0.7266\n",
            "Epoch 129: saving model to model/keypoint_classifier/keypoint_classifier.hdf5\n",
            "31/31 [==============================] - 0s 2ms/step - loss: 0.6578 - accuracy: 0.7554 - val_loss: 0.3092 - val_accuracy: 0.9245\n",
            "Epoch 130/1000\n",
            " 1/31 [..............................] - ETA: 0s - loss: 0.8218 - accuracy: 0.6797\n",
            "Epoch 130: saving model to model/keypoint_classifier/keypoint_classifier.hdf5\n",
            "31/31 [==============================] - 0s 2ms/step - loss: 0.6433 - accuracy: 0.7630 - val_loss: 0.2967 - val_accuracy: 0.9345\n",
            "Epoch 131/1000\n",
            " 1/31 [..............................] - ETA: 0s - loss: 0.6336 - accuracy: 0.7812\n",
            "Epoch 131: saving model to model/keypoint_classifier/keypoint_classifier.hdf5\n",
            "31/31 [==============================] - 0s 2ms/step - loss: 0.6517 - accuracy: 0.7635 - val_loss: 0.2982 - val_accuracy: 0.9314\n",
            "Epoch 132/1000\n",
            " 1/31 [..............................] - ETA: 0s - loss: 0.6861 - accuracy: 0.7344\n",
            "Epoch 132: saving model to model/keypoint_classifier/keypoint_classifier.hdf5\n",
            "31/31 [==============================] - 0s 2ms/step - loss: 0.6431 - accuracy: 0.7651 - val_loss: 0.3061 - val_accuracy: 0.9261\n",
            "Epoch 133/1000\n",
            " 1/31 [..............................] - ETA: 0s - loss: 0.6285 - accuracy: 0.7500\n",
            "Epoch 133: saving model to model/keypoint_classifier/keypoint_classifier.hdf5\n",
            "31/31 [==============================] - 0s 2ms/step - loss: 0.6320 - accuracy: 0.7740 - val_loss: 0.2936 - val_accuracy: 0.9276\n",
            "Epoch 134/1000\n",
            "15/31 [=============>................] - ETA: 0s - loss: 0.6442 - accuracy: 0.7568\n",
            "Epoch 134: saving model to model/keypoint_classifier/keypoint_classifier.hdf5\n",
            "31/31 [==============================] - 0s 4ms/step - loss: 0.6682 - accuracy: 0.7516 - val_loss: 0.3043 - val_accuracy: 0.9306\n",
            "Epoch 135/1000\n",
            " 1/31 [..............................] - ETA: 0s - loss: 0.5443 - accuracy: 0.8047\n",
            "Epoch 135: saving model to model/keypoint_classifier/keypoint_classifier.hdf5\n",
            "31/31 [==============================] - 0s 2ms/step - loss: 0.6407 - accuracy: 0.7623 - val_loss: 0.2980 - val_accuracy: 0.9322\n",
            "Epoch 136/1000\n",
            " 1/31 [..............................] - ETA: 0s - loss: 0.8656 - accuracy: 0.7188\n",
            "Epoch 136: saving model to model/keypoint_classifier/keypoint_classifier.hdf5\n",
            "31/31 [==============================] - 0s 2ms/step - loss: 0.6416 - accuracy: 0.7663 - val_loss: 0.2833 - val_accuracy: 0.9291\n",
            "Epoch 137/1000\n",
            " 1/31 [..............................] - ETA: 0s - loss: 0.6174 - accuracy: 0.7344\n",
            "Epoch 137: saving model to model/keypoint_classifier/keypoint_classifier.hdf5\n",
            "31/31 [==============================] - 0s 2ms/step - loss: 0.6543 - accuracy: 0.7526 - val_loss: 0.2874 - val_accuracy: 0.9360\n",
            "Epoch 138/1000\n",
            " 1/31 [..............................] - ETA: 0s - loss: 0.5940 - accuracy: 0.7500\n",
            "Epoch 138: saving model to model/keypoint_classifier/keypoint_classifier.hdf5\n",
            "31/31 [==============================] - 0s 2ms/step - loss: 0.6390 - accuracy: 0.7714 - val_loss: 0.2884 - val_accuracy: 0.9253\n",
            "Epoch 139/1000\n",
            " 1/31 [..............................] - ETA: 0s - loss: 0.7192 - accuracy: 0.7266\n",
            "Epoch 139: saving model to model/keypoint_classifier/keypoint_classifier.hdf5\n",
            "31/31 [==============================] - 0s 2ms/step - loss: 0.6579 - accuracy: 0.7640 - val_loss: 0.2895 - val_accuracy: 0.9367\n",
            "Epoch 140/1000\n",
            " 1/31 [..............................] - ETA: 0s - loss: 0.6152 - accuracy: 0.7656\n",
            "Epoch 140: saving model to model/keypoint_classifier/keypoint_classifier.hdf5\n",
            "31/31 [==============================] - 0s 2ms/step - loss: 0.6286 - accuracy: 0.7719 - val_loss: 0.2901 - val_accuracy: 0.9337\n",
            "Epoch 141/1000\n",
            " 1/31 [..............................] - ETA: 0s - loss: 0.6473 - accuracy: 0.7344\n",
            "Epoch 141: saving model to model/keypoint_classifier/keypoint_classifier.hdf5\n",
            "31/31 [==============================] - 0s 2ms/step - loss: 0.6291 - accuracy: 0.7689 - val_loss: 0.2960 - val_accuracy: 0.9268\n",
            "Epoch 142/1000\n",
            " 1/31 [..............................] - ETA: 0s - loss: 0.5631 - accuracy: 0.7969\n",
            "Epoch 142: saving model to model/keypoint_classifier/keypoint_classifier.hdf5\n",
            "31/31 [==============================] - 0s 2ms/step - loss: 0.6348 - accuracy: 0.7689 - val_loss: 0.2793 - val_accuracy: 0.9352\n",
            "Epoch 143/1000\n",
            " 1/31 [..............................] - ETA: 0s - loss: 0.5837 - accuracy: 0.7812\n",
            "Epoch 143: saving model to model/keypoint_classifier/keypoint_classifier.hdf5\n",
            "31/31 [==============================] - 0s 2ms/step - loss: 0.6400 - accuracy: 0.7628 - val_loss: 0.2912 - val_accuracy: 0.9291\n",
            "Epoch 144/1000\n",
            " 1/31 [..............................] - ETA: 0s - loss: 0.6018 - accuracy: 0.8203\n",
            "Epoch 144: saving model to model/keypoint_classifier/keypoint_classifier.hdf5\n",
            "31/31 [==============================] - 0s 3ms/step - loss: 0.6368 - accuracy: 0.7719 - val_loss: 0.2896 - val_accuracy: 0.9276\n",
            "Epoch 145/1000\n",
            " 1/31 [..............................] - ETA: 0s - loss: 0.5226 - accuracy: 0.7891\n",
            "Epoch 145: saving model to model/keypoint_classifier/keypoint_classifier.hdf5\n",
            "31/31 [==============================] - 0s 3ms/step - loss: 0.6364 - accuracy: 0.7602 - val_loss: 0.2863 - val_accuracy: 0.9436\n",
            "Epoch 146/1000\n",
            " 1/31 [..............................] - ETA: 0s - loss: 0.5434 - accuracy: 0.8281\n",
            "Epoch 146: saving model to model/keypoint_classifier/keypoint_classifier.hdf5\n",
            "31/31 [==============================] - 0s 3ms/step - loss: 0.6276 - accuracy: 0.7628 - val_loss: 0.2833 - val_accuracy: 0.9329\n",
            "Epoch 147/1000\n",
            " 1/31 [..............................] - ETA: 0s - loss: 0.6774 - accuracy: 0.7578\n",
            "Epoch 147: saving model to model/keypoint_classifier/keypoint_classifier.hdf5\n",
            "31/31 [==============================] - 0s 3ms/step - loss: 0.6388 - accuracy: 0.7681 - val_loss: 0.2772 - val_accuracy: 0.9390\n",
            "Epoch 148/1000\n",
            " 1/31 [..............................] - ETA: 0s - loss: 0.7671 - accuracy: 0.7266\n",
            "Epoch 148: saving model to model/keypoint_classifier/keypoint_classifier.hdf5\n",
            "31/31 [==============================] - 0s 3ms/step - loss: 0.6516 - accuracy: 0.7620 - val_loss: 0.2901 - val_accuracy: 0.9337\n",
            "Epoch 149/1000\n",
            " 1/31 [..............................] - ETA: 0s - loss: 0.6628 - accuracy: 0.7734\n",
            "Epoch 149: saving model to model/keypoint_classifier/keypoint_classifier.hdf5\n",
            "31/31 [==============================] - 0s 2ms/step - loss: 0.6591 - accuracy: 0.7587 - val_loss: 0.2906 - val_accuracy: 0.9299\n",
            "Epoch 150/1000\n",
            " 1/31 [..............................] - ETA: 0s - loss: 0.6864 - accuracy: 0.6953\n",
            "Epoch 150: saving model to model/keypoint_classifier/keypoint_classifier.hdf5\n",
            "31/31 [==============================] - 0s 2ms/step - loss: 0.6396 - accuracy: 0.7689 - val_loss: 0.2907 - val_accuracy: 0.9398\n",
            "Epoch 151/1000\n",
            " 1/31 [..............................] - ETA: 0s - loss: 0.7361 - accuracy: 0.7500\n",
            "Epoch 151: saving model to model/keypoint_classifier/keypoint_classifier.hdf5\n",
            "31/31 [==============================] - 0s 2ms/step - loss: 0.6238 - accuracy: 0.7801 - val_loss: 0.2862 - val_accuracy: 0.9314\n",
            "Epoch 152/1000\n",
            " 1/31 [..............................] - ETA: 0s - loss: 0.6893 - accuracy: 0.7578\n",
            "Epoch 152: saving model to model/keypoint_classifier/keypoint_classifier.hdf5\n",
            "31/31 [==============================] - 0s 2ms/step - loss: 0.6299 - accuracy: 0.7671 - val_loss: 0.2761 - val_accuracy: 0.9413\n",
            "Epoch 153/1000\n",
            " 1/31 [..............................] - ETA: 0s - loss: 0.6059 - accuracy: 0.7578\n",
            "Epoch 153: saving model to model/keypoint_classifier/keypoint_classifier.hdf5\n",
            "31/31 [==============================] - 0s 2ms/step - loss: 0.6292 - accuracy: 0.7732 - val_loss: 0.2811 - val_accuracy: 0.9322\n",
            "Epoch 154/1000\n",
            " 1/31 [..............................] - ETA: 0s - loss: 0.5761 - accuracy: 0.7969\n",
            "Epoch 154: saving model to model/keypoint_classifier/keypoint_classifier.hdf5\n",
            "31/31 [==============================] - 0s 2ms/step - loss: 0.6453 - accuracy: 0.7702 - val_loss: 0.2848 - val_accuracy: 0.9345\n",
            "Epoch 155/1000\n",
            " 1/31 [..............................] - ETA: 0s - loss: 0.5782 - accuracy: 0.7734\n",
            "Epoch 155: saving model to model/keypoint_classifier/keypoint_classifier.hdf5\n",
            "31/31 [==============================] - 0s 2ms/step - loss: 0.6402 - accuracy: 0.7679 - val_loss: 0.2787 - val_accuracy: 0.9413\n",
            "Epoch 156/1000\n",
            " 1/31 [..............................] - ETA: 0s - loss: 0.6413 - accuracy: 0.7344\n",
            "Epoch 156: saving model to model/keypoint_classifier/keypoint_classifier.hdf5\n",
            "31/31 [==============================] - 0s 2ms/step - loss: 0.6399 - accuracy: 0.7635 - val_loss: 0.2787 - val_accuracy: 0.9482\n",
            "Epoch 157/1000\n",
            " 1/31 [..............................] - ETA: 0s - loss: 0.6690 - accuracy: 0.7578\n",
            "Epoch 157: saving model to model/keypoint_classifier/keypoint_classifier.hdf5\n",
            "31/31 [==============================] - 0s 2ms/step - loss: 0.6373 - accuracy: 0.7651 - val_loss: 0.2754 - val_accuracy: 0.9489\n",
            "Epoch 158/1000\n",
            " 1/31 [..............................] - ETA: 0s - loss: 0.5114 - accuracy: 0.7969\n",
            "Epoch 158: saving model to model/keypoint_classifier/keypoint_classifier.hdf5\n",
            "31/31 [==============================] - 0s 2ms/step - loss: 0.6368 - accuracy: 0.7661 - val_loss: 0.2827 - val_accuracy: 0.9428\n",
            "Epoch 159/1000\n",
            "16/31 [==============>...............] - ETA: 0s - loss: 0.6416 - accuracy: 0.7656\n",
            "Epoch 159: saving model to model/keypoint_classifier/keypoint_classifier.hdf5\n",
            "31/31 [==============================] - 0s 4ms/step - loss: 0.6473 - accuracy: 0.7628 - val_loss: 0.2849 - val_accuracy: 0.9451\n",
            "Epoch 160/1000\n",
            " 1/31 [..............................] - ETA: 0s - loss: 0.5123 - accuracy: 0.8047\n",
            "Epoch 160: saving model to model/keypoint_classifier/keypoint_classifier.hdf5\n",
            "31/31 [==============================] - 0s 2ms/step - loss: 0.6448 - accuracy: 0.7663 - val_loss: 0.2845 - val_accuracy: 0.9436\n",
            "Epoch 161/1000\n",
            " 1/31 [..............................] - ETA: 0s - loss: 0.7522 - accuracy: 0.6953\n",
            "Epoch 161: saving model to model/keypoint_classifier/keypoint_classifier.hdf5\n",
            "31/31 [==============================] - 0s 2ms/step - loss: 0.6270 - accuracy: 0.7689 - val_loss: 0.2870 - val_accuracy: 0.9314\n",
            "Epoch 162/1000\n",
            " 1/31 [..............................] - ETA: 0s - loss: 0.5906 - accuracy: 0.7500\n",
            "Epoch 162: saving model to model/keypoint_classifier/keypoint_classifier.hdf5\n",
            "31/31 [==============================] - 0s 2ms/step - loss: 0.6205 - accuracy: 0.7752 - val_loss: 0.2817 - val_accuracy: 0.9413\n",
            "Epoch 163/1000\n",
            " 1/31 [..............................] - ETA: 0s - loss: 0.6229 - accuracy: 0.7812\n",
            "Epoch 163: saving model to model/keypoint_classifier/keypoint_classifier.hdf5\n",
            "31/31 [==============================] - 0s 2ms/step - loss: 0.6309 - accuracy: 0.7696 - val_loss: 0.2863 - val_accuracy: 0.9299\n",
            "Epoch 164/1000\n",
            " 1/31 [..............................] - ETA: 0s - loss: 0.5750 - accuracy: 0.8125\n",
            "Epoch 164: saving model to model/keypoint_classifier/keypoint_classifier.hdf5\n",
            "31/31 [==============================] - 0s 2ms/step - loss: 0.6202 - accuracy: 0.7735 - val_loss: 0.2793 - val_accuracy: 0.9466\n",
            "Epoch 165/1000\n",
            " 1/31 [..............................] - ETA: 0s - loss: 0.6760 - accuracy: 0.7266\n",
            "Epoch 165: saving model to model/keypoint_classifier/keypoint_classifier.hdf5\n",
            "31/31 [==============================] - 0s 2ms/step - loss: 0.6208 - accuracy: 0.7737 - val_loss: 0.2705 - val_accuracy: 0.9444\n",
            "Epoch 166/1000\n",
            " 1/31 [..............................] - ETA: 0s - loss: 0.6943 - accuracy: 0.7734\n",
            "Epoch 166: saving model to model/keypoint_classifier/keypoint_classifier.hdf5\n",
            "31/31 [==============================] - 0s 2ms/step - loss: 0.6420 - accuracy: 0.7724 - val_loss: 0.2845 - val_accuracy: 0.9352\n",
            "Epoch 167/1000\n",
            " 1/31 [..............................] - ETA: 0s - loss: 0.5527 - accuracy: 0.8125\n",
            "Epoch 167: saving model to model/keypoint_classifier/keypoint_classifier.hdf5\n",
            "31/31 [==============================] - 0s 2ms/step - loss: 0.6080 - accuracy: 0.7803 - val_loss: 0.2706 - val_accuracy: 0.9390\n",
            "Epoch 168/1000\n",
            " 1/31 [..............................] - ETA: 0s - loss: 0.4928 - accuracy: 0.7969\n",
            "Epoch 168: saving model to model/keypoint_classifier/keypoint_classifier.hdf5\n",
            "31/31 [==============================] - 0s 2ms/step - loss: 0.6226 - accuracy: 0.7793 - val_loss: 0.2707 - val_accuracy: 0.9482\n",
            "Epoch 169/1000\n",
            " 1/31 [..............................] - ETA: 0s - loss: 0.6149 - accuracy: 0.7656\n",
            "Epoch 169: saving model to model/keypoint_classifier/keypoint_classifier.hdf5\n",
            "31/31 [==============================] - 0s 2ms/step - loss: 0.6263 - accuracy: 0.7790 - val_loss: 0.2745 - val_accuracy: 0.9405\n",
            "Epoch 170/1000\n",
            " 1/31 [..............................] - ETA: 0s - loss: 0.7327 - accuracy: 0.7188\n",
            "Epoch 170: saving model to model/keypoint_classifier/keypoint_classifier.hdf5\n",
            "31/31 [==============================] - 0s 2ms/step - loss: 0.6298 - accuracy: 0.7613 - val_loss: 0.2745 - val_accuracy: 0.9444\n",
            "Epoch 171/1000\n",
            " 1/31 [..............................] - ETA: 0s - loss: 0.6887 - accuracy: 0.7812\n",
            "Epoch 171: saving model to model/keypoint_classifier/keypoint_classifier.hdf5\n",
            "31/31 [==============================] - 0s 2ms/step - loss: 0.6322 - accuracy: 0.7712 - val_loss: 0.2797 - val_accuracy: 0.9444\n",
            "Epoch 172/1000\n",
            " 1/31 [..............................] - ETA: 0s - loss: 0.6671 - accuracy: 0.6953\n",
            "Epoch 172: saving model to model/keypoint_classifier/keypoint_classifier.hdf5\n",
            "31/31 [==============================] - 0s 2ms/step - loss: 0.6144 - accuracy: 0.7798 - val_loss: 0.2791 - val_accuracy: 0.9413\n",
            "Epoch 173/1000\n",
            " 1/31 [..............................] - ETA: 0s - loss: 0.6720 - accuracy: 0.7656\n",
            "Epoch 173: saving model to model/keypoint_classifier/keypoint_classifier.hdf5\n",
            "31/31 [==============================] - 0s 2ms/step - loss: 0.6288 - accuracy: 0.7755 - val_loss: 0.2706 - val_accuracy: 0.9482\n",
            "Epoch 174/1000\n",
            " 1/31 [..............................] - ETA: 0s - loss: 0.7762 - accuracy: 0.6953\n",
            "Epoch 174: saving model to model/keypoint_classifier/keypoint_classifier.hdf5\n",
            "31/31 [==============================] - 0s 3ms/step - loss: 0.6314 - accuracy: 0.7785 - val_loss: 0.2732 - val_accuracy: 0.9466\n",
            "Epoch 175/1000\n",
            " 1/31 [..............................] - ETA: 0s - loss: 0.6588 - accuracy: 0.7578\n",
            "Epoch 175: saving model to model/keypoint_classifier/keypoint_classifier.hdf5\n",
            "31/31 [==============================] - 0s 3ms/step - loss: 0.6438 - accuracy: 0.7722 - val_loss: 0.2810 - val_accuracy: 0.9413\n",
            "Epoch 176/1000\n",
            " 1/31 [..............................] - ETA: 0s - loss: 0.6706 - accuracy: 0.7344\n",
            "Epoch 176: saving model to model/keypoint_classifier/keypoint_classifier.hdf5\n",
            "31/31 [==============================] - 0s 2ms/step - loss: 0.6356 - accuracy: 0.7620 - val_loss: 0.2906 - val_accuracy: 0.9314\n",
            "Epoch 177/1000\n",
            " 1/31 [..............................] - ETA: 0s - loss: 0.6953 - accuracy: 0.7188\n",
            "Epoch 177: saving model to model/keypoint_classifier/keypoint_classifier.hdf5\n",
            "31/31 [==============================] - 0s 2ms/step - loss: 0.6317 - accuracy: 0.7747 - val_loss: 0.2757 - val_accuracy: 0.9482\n",
            "Epoch 178/1000\n",
            " 1/31 [..............................] - ETA: 0s - loss: 0.5841 - accuracy: 0.7891\n",
            "Epoch 178: saving model to model/keypoint_classifier/keypoint_classifier.hdf5\n",
            "31/31 [==============================] - 0s 2ms/step - loss: 0.6202 - accuracy: 0.7780 - val_loss: 0.2762 - val_accuracy: 0.9474\n",
            "Epoch 179/1000\n",
            " 1/31 [..............................] - ETA: 0s - loss: 0.6056 - accuracy: 0.7656\n",
            "Epoch 179: saving model to model/keypoint_classifier/keypoint_classifier.hdf5\n",
            "31/31 [==============================] - 0s 3ms/step - loss: 0.6226 - accuracy: 0.7752 - val_loss: 0.2763 - val_accuracy: 0.9512\n",
            "Epoch 180/1000\n",
            " 1/31 [..............................] - ETA: 0s - loss: 0.5674 - accuracy: 0.7656\n",
            "Epoch 180: saving model to model/keypoint_classifier/keypoint_classifier.hdf5\n",
            "31/31 [==============================] - 0s 2ms/step - loss: 0.6311 - accuracy: 0.7763 - val_loss: 0.2713 - val_accuracy: 0.9421\n",
            "Epoch 181/1000\n",
            " 1/31 [..............................] - ETA: 0s - loss: 0.6135 - accuracy: 0.7969\n",
            "Epoch 181: saving model to model/keypoint_classifier/keypoint_classifier.hdf5\n",
            "31/31 [==============================] - 0s 2ms/step - loss: 0.6153 - accuracy: 0.7752 - val_loss: 0.2792 - val_accuracy: 0.9375\n",
            "Epoch 182/1000\n",
            " 1/31 [..............................] - ETA: 0s - loss: 0.7730 - accuracy: 0.7266\n",
            "Epoch 182: saving model to model/keypoint_classifier/keypoint_classifier.hdf5\n",
            "31/31 [==============================] - 0s 2ms/step - loss: 0.6264 - accuracy: 0.7681 - val_loss: 0.2782 - val_accuracy: 0.9497\n",
            "Epoch 183/1000\n",
            " 1/31 [..............................] - ETA: 0s - loss: 0.6725 - accuracy: 0.7422\n",
            "Epoch 183: saving model to model/keypoint_classifier/keypoint_classifier.hdf5\n",
            "31/31 [==============================] - 0s 2ms/step - loss: 0.6175 - accuracy: 0.7709 - val_loss: 0.2813 - val_accuracy: 0.9428\n",
            "Epoch 184/1000\n",
            " 1/31 [..............................] - ETA: 0s - loss: 0.7039 - accuracy: 0.7812\n",
            "Epoch 184: saving model to model/keypoint_classifier/keypoint_classifier.hdf5\n",
            "31/31 [==============================] - 0s 2ms/step - loss: 0.6316 - accuracy: 0.7763 - val_loss: 0.2729 - val_accuracy: 0.9459\n",
            "Epoch 185/1000\n",
            " 1/31 [..............................] - ETA: 0s - loss: 0.5206 - accuracy: 0.8047\n",
            "Epoch 185: saving model to model/keypoint_classifier/keypoint_classifier.hdf5\n",
            "31/31 [==============================] - 0s 2ms/step - loss: 0.6279 - accuracy: 0.7724 - val_loss: 0.2740 - val_accuracy: 0.9466\n",
            "Epoch 185: early stopping\n"
          ]
        },
        {
          "data": {
            "text/plain": [
              "<keras.callbacks.History at 0x7f7b181aa520>"
            ]
          },
          "execution_count": 66,
          "metadata": {},
          "output_type": "execute_result"
        }
      ],
      "source": [
        "model.fit(\n",
        "    X_train,\n",
        "    y_train,\n",
        "    epochs=1000,\n",
        "    batch_size=128,\n",
        "    validation_data=(X_test, y_test),\n",
        "    callbacks=[cp_callback, es_callback]\n",
        ")"
      ]
    },
    {
      "cell_type": "code",
      "execution_count": 67,
      "metadata": {
        "colab": {
          "base_uri": "https://localhost:8080/"
        },
        "id": "pxvb2Y299hE3",
        "outputId": "59eb3185-2e37-4b9e-bc9d-ab1b8ac29b7f"
      },
      "outputs": [
        {
          "name": "stdout",
          "output_type": "stream",
          "text": [
            "11/11 [==============================] - 0s 1ms/step - loss: 0.2740 - accuracy: 0.9466\n"
          ]
        }
      ],
      "source": [
        "# Model evaluation\n",
        "val_loss, val_acc = model.evaluate(X_test, y_test, batch_size=128)"
      ]
    },
    {
      "cell_type": "code",
      "execution_count": 68,
      "metadata": {
        "id": "RBkmDeUW9hE4"
      },
      "outputs": [],
      "source": [
        "# Loading the saved model\n",
        "model = tf.keras.models.load_model(model_save_path)"
      ]
    },
    {
      "cell_type": "code",
      "execution_count": 69,
      "metadata": {
        "colab": {
          "base_uri": "https://localhost:8080/"
        },
        "id": "tFz9Tb0I9hE4",
        "outputId": "1c3b3528-54ae-4ee2-ab04-77429211cbef"
      },
      "outputs": [
        {
          "name": "stdout",
          "output_type": "stream",
          "text": [
            "[3.2300712e-04 9.8910576e-01 8.0910616e-04 1.4155663e-05 1.3622445e-05\n",
            " 9.7343493e-03]\n",
            "1\n"
          ]
        }
      ],
      "source": [
        "# Inference test\n",
        "predict_result = model.predict(np.array([X_test[0]]))\n",
        "print(np.squeeze(predict_result))\n",
        "print(np.argmax(np.squeeze(predict_result)))"
      ]
    },
    {
      "cell_type": "markdown",
      "metadata": {
        "id": "S3U4yNWx9hE4"
      },
      "source": [
        "# Confusion matrix"
      ]
    },
    {
      "cell_type": "code",
      "execution_count": 70,
      "metadata": {
        "colab": {
          "base_uri": "https://localhost:8080/",
          "height": 582
        },
        "id": "AP1V6SCk9hE5",
        "outputId": "08e41a80-7a4a-4619-8125-ecc371368d19"
      },
      "outputs": [
        {
          "data": {
            "image/png": "[encoded data removed]",
            "text/plain": [
              "<Figure size 504x432 with 2 Axes>"
            ]
          },
          "metadata": {
            "needs_background": "light"
          },
          "output_type": "display_data"
        },
        {
          "name": "stdout",
          "output_type": "stream",
          "text": [
            "Classification Report\n",
            "              precision    recall  f1-score   support\n",
            "\n",
            "           0       0.96      0.99      0.97       412\n",
            "           1       0.98      0.92      0.95       379\n",
            "           2       0.88      0.99      0.93       316\n",
            "           3       0.97      0.97      0.97        91\n",
            "           4       1.00      0.36      0.53        33\n",
            "           5       0.96      0.94      0.95        81\n",
            "\n",
            "    accuracy                           0.95      1312\n",
            "   macro avg       0.96      0.86      0.88      1312\n",
            "weighted avg       0.95      0.95      0.94      1312\n",
            "\n"
          ]
        }
      ],
      "source": [
        "import pandas as pd\n",
        "import seaborn as sns\n",
        "import matplotlib.pyplot as plt\n",
        "from sklearn.metrics import confusion_matrix, classification_report\n",
        "\n",
        "def print_confusion_matrix(y_true, y_pred, report=True):\n",
        "    labels = sorted(list(set(y_true)))\n",
        "    cmx_data = confusion_matrix(y_true, y_pred, labels=labels)\n",
        "    \n",
        "    df_cmx = pd.DataFrame(cmx_data, index=labels, columns=labels)\n",
        " \n",
        "    fig, ax = plt.subplots(figsize=(7, 6))\n",
        "    sns.heatmap(df_cmx, annot=True, fmt='g' ,square=False)\n",
        "    ax.set_ylim(len(set(y_true)), 0)\n",
        "    plt.show()\n",
        "    \n",
        "    if report:\n",
        "        print('Classification Report')\n",
        "        print(classification_report(y_test, y_pred))\n",
        "\n",
        "Y_pred = model.predict(X_test)\n",
        "y_pred = np.argmax(Y_pred, axis=1)\n",
        "\n",
        "print_confusion_matrix(y_test, y_pred)"
      ]
    },
    {
      "cell_type": "markdown",
      "metadata": {
        "id": "FNP6aqzc9hE5"
      },
      "source": [
        "# Convert to model for Tensorflow-Lite"
      ]
    },
    {
      "cell_type": "code",
      "execution_count": 71,
      "metadata": {
        "id": "ODjnYyld9hE6"
      },
      "outputs": [],
      "source": [
        "# Save as a model dedicated to inference\n",
        "model.save(model_save_path, include_optimizer=False)"
      ]
    },
    {
      "cell_type": "code",
      "execution_count": 72,
      "metadata": {
        "colab": {
          "base_uri": "https://localhost:8080/"
        },
        "id": "zRfuK8Y59hE6",
        "outputId": "a4ca585c-b5d5-4244-8291-8674063209bb"
      },
      "outputs": [
        {
          "name": "stdout",
          "output_type": "stream",
          "text": [
            "INFO:tensorflow:Assets written to: /var/folders/c0/rlclxk0s33z9fnh1rd95j4f00000gn/T/tmps6zdudjb/assets\n"
          ]
        },
        {
          "name": "stderr",
          "output_type": "stream",
          "text": [
            "INFO:tensorflow:Assets written to: /var/folders/c0/rlclxk0s33z9fnh1rd95j4f00000gn/T/tmps6zdudjb/assets\n",
            "2023-02-17 01:59:01.338045: W tensorflow/compiler/mlir/lite/python/tf_tfl_flatbuffer_helpers.cc:357] Ignored output_format.\n",
            "2023-02-17 01:59:01.338062: W tensorflow/compiler/mlir/lite/python/tf_tfl_flatbuffer_helpers.cc:360] Ignored drop_control_dependency.\n",
            "WARNING:absl:Buffer deduplication procedure will be skipped when flatbuffer library is not properly loaded\n",
            "2023-02-17 01:59:01.338194: I tensorflow/cc/saved_model/reader.cc:43] Reading SavedModel from: /var/folders/c0/rlclxk0s33z9fnh1rd95j4f00000gn/T/tmps6zdudjb\n",
            "2023-02-17 01:59:01.339718: I tensorflow/cc/saved_model/reader.cc:78] Reading meta graph with tags { serve }\n",
            "2023-02-17 01:59:01.339729: I tensorflow/cc/saved_model/reader.cc:119] Reading SavedModel debug info (if present) from: /var/folders/c0/rlclxk0s33z9fnh1rd95j4f00000gn/T/tmps6zdudjb\n",
            "2023-02-17 01:59:01.345837: I tensorflow/cc/saved_model/loader.cc:228] Restoring SavedModel bundle.\n",
            "2023-02-17 01:59:01.394019: I tensorflow/cc/saved_model/loader.cc:212] Running initialization op on SavedModel bundle at path: /var/folders/c0/rlclxk0s33z9fnh1rd95j4f00000gn/T/tmps6zdudjb\n",
            "2023-02-17 01:59:01.409229: I tensorflow/cc/saved_model/loader.cc:301] SavedModel load for tags { serve }; Status: success: OK. Took 71035 microseconds.\n",
            "2023-02-17 01:59:01.465864: I tensorflow/lite/tools/optimize/quantize_weights.cc:225] Skipping quantization of tensor sequential_3/dense_9/MatMul because it has fewer than 1024 elements (840).\n",
            "2023-02-17 01:59:01.465898: I tensorflow/lite/tools/optimize/quantize_weights.cc:225] Skipping quantization of tensor sequential_3/dense_10/MatMul because it has fewer than 1024 elements (200).\n",
            "2023-02-17 01:59:01.465902: I tensorflow/lite/tools/optimize/quantize_weights.cc:225] Skipping quantization of tensor sequential_3/dense_11/MatMul because it has fewer than 1024 elements (60).\n"
          ]
        },
        {
          "data": {
            "text/plain": [
              "6544"
            ]
          },
          "execution_count": 72,
          "metadata": {},
          "output_type": "execute_result"
        }
      ],
      "source": [
        "# Transform model (quantization)\n",
        "\n",
        "converter = tf.lite.TFLiteConverter.from_keras_model(model)\n",
        "converter.optimizations = [tf.lite.Optimize.DEFAULT]\n",
        "tflite_quantized_model = converter.convert()\n",
        "\n",
        "open(tflite_save_path, 'wb').write(tflite_quantized_model)"
      ]
    },
    {
      "cell_type": "markdown",
      "metadata": {
        "id": "CHBPBXdx9hE6"
      },
      "source": [
        "# Inference test"
      ]
    },
    {
      "cell_type": "code",
      "execution_count": 73,
      "metadata": {
        "id": "mGAzLocO9hE7"
      },
      "outputs": [
        {
          "name": "stderr",
          "output_type": "stream",
          "text": [
            "INFO: Applying 1 TensorFlow Lite delegate(s) lazily.\n"
          ]
        }
      ],
      "source": [
        "interpreter = tf.lite.Interpreter(model_path=tflite_save_path)\n",
        "interpreter.allocate_tensors()"
      ]
    },
    {
      "cell_type": "code",
      "execution_count": 74,
      "metadata": {
        "id": "oQuDK8YS9hE7"
      },
      "outputs": [],
      "source": [
        "# Get I / O tensor\n",
        "input_details = interpreter.get_input_details()\n",
        "output_details = interpreter.get_output_details()"
      ]
    },
    {
      "cell_type": "code",
      "execution_count": 75,
      "metadata": {
        "id": "2_ixAf_l9hE7"
      },
      "outputs": [],
      "source": [
        "interpreter.set_tensor(input_details[0]['index'], np.array([X_test[0]]))"
      ]
    },
    {
      "cell_type": "code",
      "execution_count": 76,
      "metadata": {
        "colab": {
          "base_uri": "https://localhost:8080/"
        },
        "id": "s4FoAnuc9hE7",
        "outputId": "91f18257-8d8b-4ef3-c558-e9b5f94fabbf",
        "scrolled": true
      },
      "outputs": [
        {
          "name": "stdout",
          "output_type": "stream",
          "text": [
            "CPU times: user 67 µs, sys: 5 µs, total: 72 µs\n",
            "Wall time: 74.9 µs\n"
          ]
        }
      ],
      "source": [
        "%%time\n",
        "# Inference implementation\n",
        "interpreter.invoke()\n",
        "tflite_results = interpreter.get_tensor(output_details[0]['index'])"
      ]
    },
    {
      "cell_type": "code",
      "execution_count": 77,
      "metadata": {
        "colab": {
          "base_uri": "https://localhost:8080/"
        },
        "id": "vONjp19J9hE8",
        "outputId": "77205e24-fd00-42c4-f7b6-e06e527c2cba"
      },
      "outputs": [
        {
          "name": "stdout",
          "output_type": "stream",
          "text": [
            "[3.2300680e-04 9.8910576e-01 8.0910471e-04 1.4155663e-05 1.3622433e-05\n",
            " 9.7343447e-03]\n",
            "1\n"
          ]
        }
      ],
      "source": [
        "print(np.squeeze(tflite_results))\n",
        "print(np.argmax(np.squeeze(tflite_results)))"
      ]
    }
  ],
  "metadata": {
    "accelerator": "GPU",
    "colab": {
      "collapsed_sections": [],
      "name": "keypoint_classification_EN.ipynb",
      "provenance": [],
      "toc_visible": true
    },
    "kernelspec": {
      "display_name": "base",
      "language": "python",
      "name": "python3"
    },
    "language_info": {
      "codemirror_mode": {
        "name": "ipython",
        "version": 3
      },
      "file_extension": ".py",
      "mimetype": "text/x-python",
      "name": "python",
      "nbconvert_exporter": "python",
      "pygments_lexer": "ipython3",
      "version": "3.8.13"
    },
    "vscode": {
      "interpreter": {
        "hash": "6c1cd336c75cb671acd623a1361b1d53cb5a4c122912c1fc5f64ed28ffbea65a"
      }
    }
  },
  "nbformat": 4,
  "nbformat_minor": 0
}
